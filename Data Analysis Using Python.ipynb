{
 "cells": [
  {
   "cell_type": "markdown",
   "metadata": {},
   "source": [
    "Import Files"
   ]
  },
  {
   "cell_type": "code",
   "execution_count": 3,
   "metadata": {},
   "outputs": [],
   "source": [
    "import pandas as pd"
   ]
  },
  {
   "cell_type": "code",
   "execution_count": 4,
   "metadata": {},
   "outputs": [],
   "source": [
    "vanorder = pd.read_csv('vanorder.csv')\n",
    "vaninterest = pd.read_csv('vaninterest.csv')"
   ]
  },
  {
   "cell_type": "markdown",
   "metadata": {},
   "source": [
    "Exploratory Data Analysis"
   ]
  },
  {
   "cell_type": "code",
   "execution_count": 5,
   "metadata": {},
   "outputs": [
    {
     "data": {
      "text/html": [
       "<div>\n",
       "<style scoped>\n",
       "    .dataframe tbody tr th:only-of-type {\n",
       "        vertical-align: middle;\n",
       "    }\n",
       "\n",
       "    .dataframe tbody tr th {\n",
       "        vertical-align: top;\n",
       "    }\n",
       "\n",
       "    .dataframe thead th {\n",
       "        text-align: right;\n",
       "    }\n",
       "</style>\n",
       "<table border=\"1\" class=\"dataframe\">\n",
       "  <thead>\n",
       "    <tr style=\"text-align: right;\">\n",
       "      <th></th>\n",
       "      <th>idvanOrder</th>\n",
       "      <th>order_status</th>\n",
       "      <th>order_subset</th>\n",
       "      <th>requestor_client_id</th>\n",
       "      <th>servicer_auth</th>\n",
       "      <th>total_price</th>\n",
       "      <th>order_datetime</th>\n",
       "      <th>txCreate</th>\n",
       "    </tr>\n",
       "  </thead>\n",
       "  <tbody>\n",
       "    <tr>\n",
       "      <th>0</th>\n",
       "      <td>1</td>\n",
       "      <td>2</td>\n",
       "      <td>A</td>\n",
       "      <td>1</td>\n",
       "      <td>199.0</td>\n",
       "      <td>84</td>\n",
       "      <td>2017-04-18 15:30:00</td>\n",
       "      <td>2017-04-18 00:46:44</td>\n",
       "    </tr>\n",
       "    <tr>\n",
       "      <th>1</th>\n",
       "      <td>2</td>\n",
       "      <td>2</td>\n",
       "      <td>A</td>\n",
       "      <td>2</td>\n",
       "      <td>97.0</td>\n",
       "      <td>163</td>\n",
       "      <td>2017-04-18 07:10:00</td>\n",
       "      <td>2017-04-18 06:42:40</td>\n",
       "    </tr>\n",
       "    <tr>\n",
       "      <th>2</th>\n",
       "      <td>3</td>\n",
       "      <td>2</td>\n",
       "      <td>A</td>\n",
       "      <td>3</td>\n",
       "      <td>15.0</td>\n",
       "      <td>149</td>\n",
       "      <td>2017-04-18 07:10:00</td>\n",
       "      <td>2017-04-18 06:44:09</td>\n",
       "    </tr>\n",
       "    <tr>\n",
       "      <th>3</th>\n",
       "      <td>4</td>\n",
       "      <td>3</td>\n",
       "      <td>A</td>\n",
       "      <td>4</td>\n",
       "      <td>NaN</td>\n",
       "      <td>84</td>\n",
       "      <td>2017-04-18 11:10:00</td>\n",
       "      <td>2017-04-18 07:23:30</td>\n",
       "    </tr>\n",
       "    <tr>\n",
       "      <th>4</th>\n",
       "      <td>5</td>\n",
       "      <td>2</td>\n",
       "      <td>A</td>\n",
       "      <td>5</td>\n",
       "      <td>211.0</td>\n",
       "      <td>127</td>\n",
       "      <td>2017-04-18 09:00:00</td>\n",
       "      <td>2017-04-18 07:27:42</td>\n",
       "    </tr>\n",
       "  </tbody>\n",
       "</table>\n",
       "</div>"
      ],
      "text/plain": [
       "   idvanOrder  order_status order_subset  requestor_client_id  servicer_auth  \\\n",
       "0           1             2            A                    1          199.0   \n",
       "1           2             2            A                    2           97.0   \n",
       "2           3             2            A                    3           15.0   \n",
       "3           4             3            A                    4            NaN   \n",
       "4           5             2            A                    5          211.0   \n",
       "\n",
       "   total_price       order_datetime             txCreate  \n",
       "0           84  2017-04-18 15:30:00  2017-04-18 00:46:44  \n",
       "1          163  2017-04-18 07:10:00  2017-04-18 06:42:40  \n",
       "2          149  2017-04-18 07:10:00  2017-04-18 06:44:09  \n",
       "3           84  2017-04-18 11:10:00  2017-04-18 07:23:30  \n",
       "4          127  2017-04-18 09:00:00  2017-04-18 07:27:42  "
      ]
     },
     "execution_count": 5,
     "metadata": {},
     "output_type": "execute_result"
    }
   ],
   "source": [
    "vanorder.head()\n"
   ]
  },
  {
   "cell_type": "code",
   "execution_count": 6,
   "metadata": {
    "scrolled": true
   },
   "outputs": [
    {
     "data": {
      "text/html": [
       "<div>\n",
       "<style scoped>\n",
       "    .dataframe tbody tr th:only-of-type {\n",
       "        vertical-align: middle;\n",
       "    }\n",
       "\n",
       "    .dataframe tbody tr th {\n",
       "        vertical-align: top;\n",
       "    }\n",
       "\n",
       "    .dataframe thead th {\n",
       "        text-align: right;\n",
       "    }\n",
       "</style>\n",
       "<table border=\"1\" class=\"dataframe\">\n",
       "  <thead>\n",
       "    <tr style=\"text-align: right;\">\n",
       "      <th></th>\n",
       "      <th>idvanInterest</th>\n",
       "      <th>idvanOrder</th>\n",
       "      <th>order_subset_assigned</th>\n",
       "      <th>servicer_auth</th>\n",
       "      <th>txCreate</th>\n",
       "    </tr>\n",
       "  </thead>\n",
       "  <tbody>\n",
       "    <tr>\n",
       "      <th>0</th>\n",
       "      <td>1</td>\n",
       "      <td>1</td>\n",
       "      <td>A</td>\n",
       "      <td>199</td>\n",
       "      <td>2017-04-18 05:06:00</td>\n",
       "    </tr>\n",
       "    <tr>\n",
       "      <th>1</th>\n",
       "      <td>2</td>\n",
       "      <td>2</td>\n",
       "      <td>A</td>\n",
       "      <td>97</td>\n",
       "      <td>2017-04-18 06:43:00</td>\n",
       "    </tr>\n",
       "    <tr>\n",
       "      <th>2</th>\n",
       "      <td>3</td>\n",
       "      <td>3</td>\n",
       "      <td>A</td>\n",
       "      <td>15</td>\n",
       "      <td>2017-04-18 06:59:00</td>\n",
       "    </tr>\n",
       "    <tr>\n",
       "      <th>3</th>\n",
       "      <td>4</td>\n",
       "      <td>5</td>\n",
       "      <td>A</td>\n",
       "      <td>211</td>\n",
       "      <td>2017-04-18 07:32:00</td>\n",
       "    </tr>\n",
       "    <tr>\n",
       "      <th>4</th>\n",
       "      <td>5</td>\n",
       "      <td>6</td>\n",
       "      <td>A</td>\n",
       "      <td>4</td>\n",
       "      <td>2017-04-18 07:45:00</td>\n",
       "    </tr>\n",
       "  </tbody>\n",
       "</table>\n",
       "</div>"
      ],
      "text/plain": [
       "   idvanInterest  idvanOrder order_subset_assigned  servicer_auth  \\\n",
       "0              1           1                     A            199   \n",
       "1              2           2                     A             97   \n",
       "2              3           3                     A             15   \n",
       "3              4           5                     A            211   \n",
       "4              5           6                     A              4   \n",
       "\n",
       "              txCreate  \n",
       "0  2017-04-18 05:06:00  \n",
       "1  2017-04-18 06:43:00  \n",
       "2  2017-04-18 06:59:00  \n",
       "3  2017-04-18 07:32:00  \n",
       "4  2017-04-18 07:45:00  "
      ]
     },
     "execution_count": 6,
     "metadata": {},
     "output_type": "execute_result"
    }
   ],
   "source": [
    "vaninterest.head()"
   ]
  },
  {
   "cell_type": "code",
   "execution_count": 43,
   "metadata": {},
   "outputs": [
    {
     "data": {
      "text/html": [
       "<div>\n",
       "<style scoped>\n",
       "    .dataframe tbody tr th:only-of-type {\n",
       "        vertical-align: middle;\n",
       "    }\n",
       "\n",
       "    .dataframe tbody tr th {\n",
       "        vertical-align: top;\n",
       "    }\n",
       "\n",
       "    .dataframe thead th {\n",
       "        text-align: right;\n",
       "    }\n",
       "</style>\n",
       "<table border=\"1\" class=\"dataframe\">\n",
       "  <thead>\n",
       "    <tr style=\"text-align: right;\">\n",
       "      <th></th>\n",
       "      <th>idvanOrder</th>\n",
       "      <th>order_status</th>\n",
       "      <th>requestor_client_id</th>\n",
       "      <th>servicer_auth</th>\n",
       "      <th>total_price</th>\n",
       "    </tr>\n",
       "  </thead>\n",
       "  <tbody>\n",
       "    <tr>\n",
       "      <th>count</th>\n",
       "      <td>300.000000</td>\n",
       "      <td>300.000000</td>\n",
       "      <td>300.000000</td>\n",
       "      <td>283.000000</td>\n",
       "      <td>300.000000</td>\n",
       "    </tr>\n",
       "    <tr>\n",
       "      <th>mean</th>\n",
       "      <td>150.500000</td>\n",
       "      <td>2.066667</td>\n",
       "      <td>117.970000</td>\n",
       "      <td>141.851590</td>\n",
       "      <td>205.376667</td>\n",
       "    </tr>\n",
       "    <tr>\n",
       "      <th>std</th>\n",
       "      <td>86.746758</td>\n",
       "      <td>0.287223</td>\n",
       "      <td>70.540074</td>\n",
       "      <td>81.918914</td>\n",
       "      <td>171.365502</td>\n",
       "    </tr>\n",
       "    <tr>\n",
       "      <th>min</th>\n",
       "      <td>1.000000</td>\n",
       "      <td>2.000000</td>\n",
       "      <td>1.000000</td>\n",
       "      <td>1.000000</td>\n",
       "      <td>20.000000</td>\n",
       "    </tr>\n",
       "    <tr>\n",
       "      <th>25%</th>\n",
       "      <td>75.750000</td>\n",
       "      <td>2.000000</td>\n",
       "      <td>53.750000</td>\n",
       "      <td>71.500000</td>\n",
       "      <td>120.000000</td>\n",
       "    </tr>\n",
       "    <tr>\n",
       "      <th>50%</th>\n",
       "      <td>150.500000</td>\n",
       "      <td>2.000000</td>\n",
       "      <td>117.500000</td>\n",
       "      <td>141.000000</td>\n",
       "      <td>167.000000</td>\n",
       "    </tr>\n",
       "    <tr>\n",
       "      <th>75%</th>\n",
       "      <td>225.250000</td>\n",
       "      <td>2.000000</td>\n",
       "      <td>180.250000</td>\n",
       "      <td>212.500000</td>\n",
       "      <td>228.750000</td>\n",
       "    </tr>\n",
       "    <tr>\n",
       "      <th>max</th>\n",
       "      <td>300.000000</td>\n",
       "      <td>5.000000</td>\n",
       "      <td>243.000000</td>\n",
       "      <td>282.000000</td>\n",
       "      <td>1710.000000</td>\n",
       "    </tr>\n",
       "  </tbody>\n",
       "</table>\n",
       "</div>"
      ],
      "text/plain": [
       "       idvanOrder  order_status  requestor_client_id  servicer_auth  \\\n",
       "count  300.000000    300.000000           300.000000     283.000000   \n",
       "mean   150.500000      2.066667           117.970000     141.851590   \n",
       "std     86.746758      0.287223            70.540074      81.918914   \n",
       "min      1.000000      2.000000             1.000000       1.000000   \n",
       "25%     75.750000      2.000000            53.750000      71.500000   \n",
       "50%    150.500000      2.000000           117.500000     141.000000   \n",
       "75%    225.250000      2.000000           180.250000     212.500000   \n",
       "max    300.000000      5.000000           243.000000     282.000000   \n",
       "\n",
       "       total_price  \n",
       "count   300.000000  \n",
       "mean    205.376667  \n",
       "std     171.365502  \n",
       "min      20.000000  \n",
       "25%     120.000000  \n",
       "50%     167.000000  \n",
       "75%     228.750000  \n",
       "max    1710.000000  "
      ]
     },
     "execution_count": 43,
     "metadata": {},
     "output_type": "execute_result"
    }
   ],
   "source": [
    "vanorder.describe()"
   ]
  },
  {
   "cell_type": "markdown",
   "metadata": {},
   "source": [
    "Convert date into Pandas datetime object"
   ]
  },
  {
   "cell_type": "code",
   "execution_count": 7,
   "metadata": {},
   "outputs": [],
   "source": [
    "vanorder.txCreate = pd.to_datetime(vanorder.txCreate)\n",
    "vaninterest.txCreate = pd.to_datetime(vaninterest.txCreate)"
   ]
  },
  {
   "cell_type": "code",
   "execution_count": 8,
   "metadata": {
    "scrolled": true
   },
   "outputs": [
    {
     "data": {
      "text/html": [
       "<div>\n",
       "<style scoped>\n",
       "    .dataframe tbody tr th:only-of-type {\n",
       "        vertical-align: middle;\n",
       "    }\n",
       "\n",
       "    .dataframe tbody tr th {\n",
       "        vertical-align: top;\n",
       "    }\n",
       "\n",
       "    .dataframe thead th {\n",
       "        text-align: right;\n",
       "    }\n",
       "</style>\n",
       "<table border=\"1\" class=\"dataframe\">\n",
       "  <thead>\n",
       "    <tr style=\"text-align: right;\">\n",
       "      <th></th>\n",
       "      <th>idvanOrder</th>\n",
       "      <th>order_status</th>\n",
       "      <th>order_subset</th>\n",
       "      <th>requestor_client_id</th>\n",
       "      <th>servicer_auth</th>\n",
       "      <th>total_price</th>\n",
       "      <th>order_datetime</th>\n",
       "      <th>txCreate</th>\n",
       "    </tr>\n",
       "  </thead>\n",
       "  <tbody>\n",
       "    <tr>\n",
       "      <th>0</th>\n",
       "      <td>1</td>\n",
       "      <td>2</td>\n",
       "      <td>A</td>\n",
       "      <td>1</td>\n",
       "      <td>199.0</td>\n",
       "      <td>84</td>\n",
       "      <td>2017-04-18 15:30:00</td>\n",
       "      <td>2017-04-18 00:46:44</td>\n",
       "    </tr>\n",
       "    <tr>\n",
       "      <th>1</th>\n",
       "      <td>2</td>\n",
       "      <td>2</td>\n",
       "      <td>A</td>\n",
       "      <td>2</td>\n",
       "      <td>97.0</td>\n",
       "      <td>163</td>\n",
       "      <td>2017-04-18 07:10:00</td>\n",
       "      <td>2017-04-18 06:42:40</td>\n",
       "    </tr>\n",
       "    <tr>\n",
       "      <th>2</th>\n",
       "      <td>3</td>\n",
       "      <td>2</td>\n",
       "      <td>A</td>\n",
       "      <td>3</td>\n",
       "      <td>15.0</td>\n",
       "      <td>149</td>\n",
       "      <td>2017-04-18 07:10:00</td>\n",
       "      <td>2017-04-18 06:44:09</td>\n",
       "    </tr>\n",
       "    <tr>\n",
       "      <th>3</th>\n",
       "      <td>4</td>\n",
       "      <td>3</td>\n",
       "      <td>A</td>\n",
       "      <td>4</td>\n",
       "      <td>NaN</td>\n",
       "      <td>84</td>\n",
       "      <td>2017-04-18 11:10:00</td>\n",
       "      <td>2017-04-18 07:23:30</td>\n",
       "    </tr>\n",
       "    <tr>\n",
       "      <th>4</th>\n",
       "      <td>5</td>\n",
       "      <td>2</td>\n",
       "      <td>A</td>\n",
       "      <td>5</td>\n",
       "      <td>211.0</td>\n",
       "      <td>127</td>\n",
       "      <td>2017-04-18 09:00:00</td>\n",
       "      <td>2017-04-18 07:27:42</td>\n",
       "    </tr>\n",
       "  </tbody>\n",
       "</table>\n",
       "</div>"
      ],
      "text/plain": [
       "   idvanOrder  order_status order_subset  requestor_client_id  servicer_auth  \\\n",
       "0           1             2            A                    1          199.0   \n",
       "1           2             2            A                    2           97.0   \n",
       "2           3             2            A                    3           15.0   \n",
       "3           4             3            A                    4            NaN   \n",
       "4           5             2            A                    5          211.0   \n",
       "\n",
       "   total_price       order_datetime            txCreate  \n",
       "0           84  2017-04-18 15:30:00 2017-04-18 00:46:44  \n",
       "1          163  2017-04-18 07:10:00 2017-04-18 06:42:40  \n",
       "2          149  2017-04-18 07:10:00 2017-04-18 06:44:09  \n",
       "3           84  2017-04-18 11:10:00 2017-04-18 07:23:30  \n",
       "4          127  2017-04-18 09:00:00 2017-04-18 07:27:42  "
      ]
     },
     "execution_count": 8,
     "metadata": {},
     "output_type": "execute_result"
    }
   ],
   "source": [
    "vanorder.head()"
   ]
  },
  {
   "cell_type": "markdown",
   "metadata": {},
   "source": [
    "Q) 5 : What is the order fulfillment rate, i.e. percentage of orders that was completed ?"
   ]
  },
  {
   "cell_type": "code",
   "execution_count": 9,
   "metadata": {},
   "outputs": [
    {
     "data": {
      "text/plain": [
       "0.94"
      ]
     },
     "execution_count": 9,
     "metadata": {},
     "output_type": "execute_result"
    }
   ],
   "source": [
    "len(vanorder[vanorder.order_status == 2])/len(vanorder)"
   ]
  },
  {
   "cell_type": "markdown",
   "metadata": {},
   "source": [
    "Order Fulfillment rate = 94%"
   ]
  },
  {
   "cell_type": "markdown",
   "metadata": {},
   "source": [
    "Subset Order type- A"
   ]
  },
  {
   "cell_type": "code",
   "execution_count": 10,
   "metadata": {},
   "outputs": [],
   "source": [
    "vanorderA = vanorder[vanorder.order_subset == 'A']\n",
    "vaninterestA = vaninterest[vaninterest.order_subset_assigned == 'A']"
   ]
  },
  {
   "cell_type": "markdown",
   "metadata": {},
   "source": [
    "Create a new column matchtime i.e difference of time accepted and time created"
   ]
  },
  {
   "cell_type": "code",
   "execution_count": 33,
   "metadata": {
    "scrolled": false
   },
   "outputs": [
    {
     "name": "stderr",
     "output_type": "stream",
     "text": [
      "c:\\users\\pramodksh\\appdata\\local\\programs\\python\\python36-32\\lib\\site-packages\\ipykernel_launcher.py:1: SettingWithCopyWarning: \n",
      "A value is trying to be set on a copy of a slice from a DataFrame.\n",
      "Try using .loc[row_indexer,col_indexer] = value instead\n",
      "\n",
      "See the caveats in the documentation: http://pandas.pydata.org/pandas-docs/stable/indexing.html#indexing-view-versus-copy\n",
      "  \"\"\"Entry point for launching an IPython kernel.\n",
      "c:\\users\\pramodksh\\appdata\\local\\programs\\python\\python36-32\\lib\\site-packages\\ipykernel_launcher.py:2: SettingWithCopyWarning: \n",
      "A value is trying to be set on a copy of a slice from a DataFrame.\n",
      "Try using .loc[row_indexer,col_indexer] = value instead\n",
      "\n",
      "See the caveats in the documentation: http://pandas.pydata.org/pandas-docs/stable/indexing.html#indexing-view-versus-copy\n",
      "  \n"
     ]
    },
    {
     "data": {
      "text/html": [
       "<div>\n",
       "<style scoped>\n",
       "    .dataframe tbody tr th:only-of-type {\n",
       "        vertical-align: middle;\n",
       "    }\n",
       "\n",
       "    .dataframe tbody tr th {\n",
       "        vertical-align: top;\n",
       "    }\n",
       "\n",
       "    .dataframe thead th {\n",
       "        text-align: right;\n",
       "    }\n",
       "</style>\n",
       "<table border=\"1\" class=\"dataframe\">\n",
       "  <thead>\n",
       "    <tr style=\"text-align: right;\">\n",
       "      <th></th>\n",
       "      <th>idvanOrder</th>\n",
       "      <th>order_status</th>\n",
       "      <th>order_subset</th>\n",
       "      <th>requestor_client_id</th>\n",
       "      <th>servicer_auth</th>\n",
       "      <th>total_price</th>\n",
       "      <th>order_datetime</th>\n",
       "      <th>txCreate</th>\n",
       "      <th>matchtime</th>\n",
       "      <th>txAccept</th>\n",
       "    </tr>\n",
       "  </thead>\n",
       "  <tbody>\n",
       "    <tr>\n",
       "      <th>0</th>\n",
       "      <td>1</td>\n",
       "      <td>2</td>\n",
       "      <td>A</td>\n",
       "      <td>1</td>\n",
       "      <td>199.0</td>\n",
       "      <td>84</td>\n",
       "      <td>2017-04-18 15:30:00</td>\n",
       "      <td>2017-04-18 00:46:44</td>\n",
       "      <td>04:19:16</td>\n",
       "      <td>2017-04-18 05:06:00</td>\n",
       "    </tr>\n",
       "    <tr>\n",
       "      <th>1</th>\n",
       "      <td>2</td>\n",
       "      <td>2</td>\n",
       "      <td>A</td>\n",
       "      <td>2</td>\n",
       "      <td>97.0</td>\n",
       "      <td>163</td>\n",
       "      <td>2017-04-18 07:10:00</td>\n",
       "      <td>2017-04-18 06:42:40</td>\n",
       "      <td>00:00:20</td>\n",
       "      <td>2017-04-18 06:43:00</td>\n",
       "    </tr>\n",
       "    <tr>\n",
       "      <th>2</th>\n",
       "      <td>3</td>\n",
       "      <td>2</td>\n",
       "      <td>A</td>\n",
       "      <td>3</td>\n",
       "      <td>15.0</td>\n",
       "      <td>149</td>\n",
       "      <td>2017-04-18 07:10:00</td>\n",
       "      <td>2017-04-18 06:44:09</td>\n",
       "      <td>00:14:51</td>\n",
       "      <td>2017-04-18 06:59:00</td>\n",
       "    </tr>\n",
       "    <tr>\n",
       "      <th>3</th>\n",
       "      <td>4</td>\n",
       "      <td>3</td>\n",
       "      <td>A</td>\n",
       "      <td>4</td>\n",
       "      <td>NaN</td>\n",
       "      <td>84</td>\n",
       "      <td>2017-04-18 11:10:00</td>\n",
       "      <td>2017-04-18 07:23:30</td>\n",
       "      <td>00:08:30</td>\n",
       "      <td>2017-04-18 07:32:00</td>\n",
       "    </tr>\n",
       "    <tr>\n",
       "      <th>4</th>\n",
       "      <td>5</td>\n",
       "      <td>2</td>\n",
       "      <td>A</td>\n",
       "      <td>5</td>\n",
       "      <td>211.0</td>\n",
       "      <td>127</td>\n",
       "      <td>2017-04-18 09:00:00</td>\n",
       "      <td>2017-04-18 07:27:42</td>\n",
       "      <td>00:17:18</td>\n",
       "      <td>2017-04-18 07:45:00</td>\n",
       "    </tr>\n",
       "  </tbody>\n",
       "</table>\n",
       "</div>"
      ],
      "text/plain": [
       "   idvanOrder  order_status order_subset  requestor_client_id  servicer_auth  \\\n",
       "0           1             2            A                    1          199.0   \n",
       "1           2             2            A                    2           97.0   \n",
       "2           3             2            A                    3           15.0   \n",
       "3           4             3            A                    4            NaN   \n",
       "4           5             2            A                    5          211.0   \n",
       "\n",
       "   total_price       order_datetime            txCreate matchtime  \\\n",
       "0           84  2017-04-18 15:30:00 2017-04-18 00:46:44  04:19:16   \n",
       "1          163  2017-04-18 07:10:00 2017-04-18 06:42:40  00:00:20   \n",
       "2          149  2017-04-18 07:10:00 2017-04-18 06:44:09  00:14:51   \n",
       "3           84  2017-04-18 11:10:00 2017-04-18 07:23:30  00:08:30   \n",
       "4          127  2017-04-18 09:00:00 2017-04-18 07:27:42  00:17:18   \n",
       "\n",
       "             txAccept  \n",
       "0 2017-04-18 05:06:00  \n",
       "1 2017-04-18 06:43:00  \n",
       "2 2017-04-18 06:59:00  \n",
       "3 2017-04-18 07:32:00  \n",
       "4 2017-04-18 07:45:00  "
      ]
     },
     "execution_count": 33,
     "metadata": {},
     "output_type": "execute_result"
    }
   ],
   "source": [
    "vanorderA['txAccept'] = vaninterestA.txCreate\n",
    "vanorderA['matchtime'] = vanorderA.txAccept - vanorderA.txCreate\n",
    "vanorderA.head()"
   ]
  },
  {
   "cell_type": "markdown",
   "metadata": {},
   "source": [
    "Subset Advanced/Immediate orders"
   ]
  },
  {
   "cell_type": "code",
   "execution_count": 36,
   "metadata": {},
   "outputs": [],
   "source": [
    "van_advanced_orders = vanorderA[(vanorderA.matchtime.between('00:00:00', '01:00:00') )]\n"
   ]
  },
  {
   "cell_type": "code",
   "execution_count": 38,
   "metadata": {},
   "outputs": [],
   "source": [
    "van_advanced_orders = van_advanced_orders[van_advanced_orders.matchtime < '01:00:00']"
   ]
  },
  {
   "cell_type": "code",
   "execution_count": 39,
   "metadata": {
    "scrolled": true
   },
   "outputs": [
    {
     "data": {
      "text/html": [
       "<div>\n",
       "<style scoped>\n",
       "    .dataframe tbody tr th:only-of-type {\n",
       "        vertical-align: middle;\n",
       "    }\n",
       "\n",
       "    .dataframe tbody tr th {\n",
       "        vertical-align: top;\n",
       "    }\n",
       "\n",
       "    .dataframe thead th {\n",
       "        text-align: right;\n",
       "    }\n",
       "</style>\n",
       "<table border=\"1\" class=\"dataframe\">\n",
       "  <thead>\n",
       "    <tr style=\"text-align: right;\">\n",
       "      <th></th>\n",
       "      <th>idvanOrder</th>\n",
       "      <th>order_status</th>\n",
       "      <th>order_subset</th>\n",
       "      <th>requestor_client_id</th>\n",
       "      <th>servicer_auth</th>\n",
       "      <th>total_price</th>\n",
       "      <th>order_datetime</th>\n",
       "      <th>txCreate</th>\n",
       "      <th>matchtime</th>\n",
       "      <th>txAccept</th>\n",
       "    </tr>\n",
       "  </thead>\n",
       "  <tbody>\n",
       "    <tr>\n",
       "      <th>1</th>\n",
       "      <td>2</td>\n",
       "      <td>2</td>\n",
       "      <td>A</td>\n",
       "      <td>2</td>\n",
       "      <td>97.0</td>\n",
       "      <td>163</td>\n",
       "      <td>2017-04-18 07:10:00</td>\n",
       "      <td>2017-04-18 06:42:40</td>\n",
       "      <td>00:00:20</td>\n",
       "      <td>2017-04-18 06:43:00</td>\n",
       "    </tr>\n",
       "    <tr>\n",
       "      <th>2</th>\n",
       "      <td>3</td>\n",
       "      <td>2</td>\n",
       "      <td>A</td>\n",
       "      <td>3</td>\n",
       "      <td>15.0</td>\n",
       "      <td>149</td>\n",
       "      <td>2017-04-18 07:10:00</td>\n",
       "      <td>2017-04-18 06:44:09</td>\n",
       "      <td>00:14:51</td>\n",
       "      <td>2017-04-18 06:59:00</td>\n",
       "    </tr>\n",
       "    <tr>\n",
       "      <th>3</th>\n",
       "      <td>4</td>\n",
       "      <td>3</td>\n",
       "      <td>A</td>\n",
       "      <td>4</td>\n",
       "      <td>NaN</td>\n",
       "      <td>84</td>\n",
       "      <td>2017-04-18 11:10:00</td>\n",
       "      <td>2017-04-18 07:23:30</td>\n",
       "      <td>00:08:30</td>\n",
       "      <td>2017-04-18 07:32:00</td>\n",
       "    </tr>\n",
       "    <tr>\n",
       "      <th>4</th>\n",
       "      <td>5</td>\n",
       "      <td>2</td>\n",
       "      <td>A</td>\n",
       "      <td>5</td>\n",
       "      <td>211.0</td>\n",
       "      <td>127</td>\n",
       "      <td>2017-04-18 09:00:00</td>\n",
       "      <td>2017-04-18 07:27:42</td>\n",
       "      <td>00:17:18</td>\n",
       "      <td>2017-04-18 07:45:00</td>\n",
       "    </tr>\n",
       "    <tr>\n",
       "      <th>5</th>\n",
       "      <td>6</td>\n",
       "      <td>2</td>\n",
       "      <td>A</td>\n",
       "      <td>6</td>\n",
       "      <td>4.0</td>\n",
       "      <td>117</td>\n",
       "      <td>2017-04-18 08:30:00</td>\n",
       "      <td>2017-04-18 07:43:05</td>\n",
       "      <td>00:28:55</td>\n",
       "      <td>2017-04-18 08:12:00</td>\n",
       "    </tr>\n",
       "  </tbody>\n",
       "</table>\n",
       "</div>"
      ],
      "text/plain": [
       "   idvanOrder  order_status order_subset  requestor_client_id  servicer_auth  \\\n",
       "1           2             2            A                    2           97.0   \n",
       "2           3             2            A                    3           15.0   \n",
       "3           4             3            A                    4            NaN   \n",
       "4           5             2            A                    5          211.0   \n",
       "5           6             2            A                    6            4.0   \n",
       "\n",
       "   total_price       order_datetime            txCreate matchtime  \\\n",
       "1          163  2017-04-18 07:10:00 2017-04-18 06:42:40  00:00:20   \n",
       "2          149  2017-04-18 07:10:00 2017-04-18 06:44:09  00:14:51   \n",
       "3           84  2017-04-18 11:10:00 2017-04-18 07:23:30  00:08:30   \n",
       "4          127  2017-04-18 09:00:00 2017-04-18 07:27:42  00:17:18   \n",
       "5          117  2017-04-18 08:30:00 2017-04-18 07:43:05  00:28:55   \n",
       "\n",
       "             txAccept  \n",
       "1 2017-04-18 06:43:00  \n",
       "2 2017-04-18 06:59:00  \n",
       "3 2017-04-18 07:32:00  \n",
       "4 2017-04-18 07:45:00  \n",
       "5 2017-04-18 08:12:00  "
      ]
     },
     "execution_count": 39,
     "metadata": {},
     "output_type": "execute_result"
    }
   ],
   "source": [
    "van_advanced_orders.head()"
   ]
  },
  {
   "cell_type": "markdown",
   "metadata": {},
   "source": [
    "Q)6 (a) What is the average match time, by immediate/advanced orders? "
   ]
  },
  {
   "cell_type": "code",
   "execution_count": 40,
   "metadata": {
    "scrolled": true
   },
   "outputs": [
    {
     "data": {
      "text/plain": [
       "Timedelta('0 days 00:08:59.451612')"
      ]
     },
     "execution_count": 40,
     "metadata": {},
     "output_type": "execute_result"
    }
   ],
   "source": [
    "van_advanced_orders.matchtime.mean()"
   ]
  },
  {
   "cell_type": "markdown",
   "metadata": {},
   "source": [
    "Average matchtime is 8 Minutes 59 sec"
   ]
  },
  {
   "cell_type": "markdown",
   "metadata": {},
   "source": [
    "Q)6 (b) What is the median match time, by immediate/advanced orders?"
   ]
  },
  {
   "cell_type": "code",
   "execution_count": 41,
   "metadata": {
    "scrolled": true
   },
   "outputs": [
    {
     "data": {
      "text/plain": [
       "Timedelta('0 days 00:05:06')"
      ]
     },
     "execution_count": 41,
     "metadata": {},
     "output_type": "execute_result"
    }
   ],
   "source": [
    "van_advanced_orders.matchtime.median()"
   ]
  },
  {
   "cell_type": "markdown",
   "metadata": {},
   "source": [
    "Median matchtime is 5 Minutes 06 sec"
   ]
  },
  {
   "cell_type": "markdown",
   "metadata": {},
   "source": [
    "  (c) Which of the above one do you think provides a better representation the data, i.e. a better metric for tracking our performance in matching?"
   ]
  },
  {
   "cell_type": "markdown",
   "metadata": {},
   "source": [
    "Median gives a better metric because it doesn't get affected by outliers.(In this case midnight orders).\n",
    "\n",
    "However mean of binned hours would provide better insights.(Avg matchtime of morning hours,afternnon,evening and night)"
   ]
  },
  {
   "cell_type": "markdown",
   "metadata": {},
   "source": [
    "Export the file as a csv to prepeare dashnoard(Tableau)"
   ]
  },
  {
   "cell_type": "code",
   "execution_count": 42,
   "metadata": {},
   "outputs": [],
   "source": [
    "van_advanced_orders.to_csv('1.csv')"
   ]
  },
  {
   "cell_type": "markdown",
   "metadata": {},
   "source": [
    "Dashboard for Management"
   ]
  },
  {
   "cell_type": "markdown",
   "metadata": {},
   "source": [
    "<img src=\"dashboard_for_management.jpg\">"
   ]
  },
  {
   "cell_type": "markdown",
   "metadata": {},
   "source": [
    "Dashboard for Operations :"
   ]
  },
  {
   "cell_type": "markdown",
   "metadata": {},
   "source": [
    "<img src=\"dashboard_for_operations.jpg\">"
   ]
  }
 ],
 "metadata": {
  "kernelspec": {
   "display_name": "Python 3",
   "language": "python",
   "name": "python3"
  },
  "language_info": {
   "codemirror_mode": {
    "name": "ipython",
    "version": 3
   },
   "file_extension": ".py",
   "mimetype": "text/x-python",
   "name": "python",
   "nbconvert_exporter": "python",
   "pygments_lexer": "ipython3",
   "version": "3.6.5"
  }
 },
 "nbformat": 4,
 "nbformat_minor": 2
}
